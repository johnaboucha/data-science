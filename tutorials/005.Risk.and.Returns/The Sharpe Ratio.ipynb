{
 "cells": [
  {
   "cell_type": "markdown",
   "id": "ea92c786-c0e4-41e7-b1a3-67bdc2913b9c",
   "metadata": {},
   "source": [
    "# Risk and Returns: The Sharpe Ratio\n",
    "\n"
   ]
  },
  {
   "cell_type": "code",
   "execution_count": null,
   "id": "7e0faf42-a39d-4421-9434-556b5f006a65",
   "metadata": {},
   "outputs": [],
   "source": []
  }
 ],
 "metadata": {
  "kernelspec": {
   "display_name": "Python 3 (ipykernel)",
   "language": "python",
   "name": "python3"
  },
  "language_info": {
   "codemirror_mode": {
    "name": "ipython",
    "version": 3
   },
   "file_extension": ".py",
   "mimetype": "text/x-python",
   "name": "python",
   "nbconvert_exporter": "python",
   "pygments_lexer": "ipython3",
   "version": "3.9.7"
  }
 },
 "nbformat": 4,
 "nbformat_minor": 5
}
