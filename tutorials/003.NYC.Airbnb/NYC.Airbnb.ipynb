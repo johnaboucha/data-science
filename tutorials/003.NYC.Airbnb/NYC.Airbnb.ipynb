{
 "cells": [
  {
   "cell_type": "markdown",
   "id": "1ff57b2d-39af-48c4-a7fe-fc2089e5e393",
   "metadata": {},
   "source": [
    "# Exploring the NYC Airbnb Market\n",
    "\n",
    "New York City (NYC) is one of the most-visited cities in the world. As a result, there are many Airbnb listings to meet the high demand for temporary lodging for anywhere between a few nights to many months. In this notebook, we will look at the NYC Airbnb market by combining data from multiple file types like .csv, .tsv, and .xlsx.\n",
    "\n",
    "The goals are to convert untidy data into appropriate formats to analyze, and answer key questions including:\n",
    "\n",
    "- What is the average price, per night, of an Airbnb listing in NYC?\n",
    "- How does the average price of an Airbnb listing, per month, compare to the private rental market?\n",
    "- How many adverts are for private rooms?\n",
    "- How do Airbnb listing prices compare across the five NYC boroughs?"
   ]
  },
  {
   "cell_type": "markdown",
   "id": "5cfb1a38-9e4f-4c7f-874a-0936541763b1",
   "metadata": {},
   "source": [
    "## Imports"
   ]
  },
  {
   "cell_type": "code",
   "execution_count": 2,
   "id": "df7bb4ec-7491-491f-9cc9-1cdb20c17725",
   "metadata": {},
   "outputs": [],
   "source": [
    "# Data tools\n",
    "import pandas as pd\n",
    "import numpy as np\n",
    "import datetime as dt"
   ]
  },
  {
   "cell_type": "markdown",
   "id": "e6c86684-9a56-4a08-b927-06b2575a9880",
   "metadata": {},
   "source": [
    "## Data Overview\n",
    "\n",
    "The file ```airbnb_price.csv``` includes three columns for each rental location.\n",
    "\n",
    "| Column | Description |\n",
    "| ------ | ----------- |\n",
    "| listing_id | Unique ID |\n",
    "| price | Price per night |\n",
    "| nbhood_full | Name of New York City neighborhood |"
   ]
  },
  {
   "cell_type": "code",
   "execution_count": null,
   "id": "e3f3c7b8-eaee-418a-ab75-adb4c52f7871",
   "metadata": {},
   "outputs": [],
   "source": []
  }
 ],
 "metadata": {
  "kernelspec": {
   "display_name": "Python 3 (ipykernel)",
   "language": "python",
   "name": "python3"
  },
  "language_info": {
   "codemirror_mode": {
    "name": "ipython",
    "version": 3
   },
   "file_extension": ".py",
   "mimetype": "text/x-python",
   "name": "python",
   "nbconvert_exporter": "python",
   "pygments_lexer": "ipython3",
   "version": "3.9.7"
  }
 },
 "nbformat": 4,
 "nbformat_minor": 5
}
