{
 "cells": [
  {
   "cell_type": "markdown",
   "id": "1ff57b2d-39af-48c4-a7fe-fc2089e5e393",
   "metadata": {},
   "source": [
    "# Exploring the NYC Airbnb Market\n",
    "\n",
    "New York City (NYC) is one of the most-visited cities in the world. As a result, there are many Airbnb listings to meet the high demand for temporary lodging for anywhere between a few nights to many months. In this notebook, we will look at the NYC Airbnb market by combining data from multiple file types like .csv, .tsv, and .xlsx.\n",
    "\n",
    "The goals are to convert untidy data into appropriate formats to analyze, and answer key questions including:\n",
    "\n",
    "- What is the average price, per night, of an Airbnb listing in NYC?\n",
    "- How does the average price of an Airbnb listing, per month, compare to the private rental market?\n",
    "- How many adverts are for private rooms?\n",
    "- How do Airbnb listing prices compare across the five NYC boroughs?"
   ]
  },
  {
   "cell_type": "markdown",
   "id": "5cfb1a38-9e4f-4c7f-874a-0936541763b1",
   "metadata": {},
   "source": [
    "## Imports"
   ]
  },
  {
   "cell_type": "code",
   "execution_count": 100,
   "id": "df7bb4ec-7491-491f-9cc9-1cdb20c17725",
   "metadata": {},
   "outputs": [],
   "source": [
    "# Data tools\n",
    "import pandas as pd\n",
    "import numpy as np\n",
    "import datetime as dt"
   ]
  },
  {
   "cell_type": "markdown",
   "id": "e6c86684-9a56-4a08-b927-06b2575a9880",
   "metadata": {},
   "source": [
    "## Data Overview\n",
    "\n",
    "```airbnb_price.csv``` is a CSV file that includes three columns for each rental location.\n",
    "\n",
    "| Column | Description |\n",
    "| ------ | ----------- |\n",
    "| listing_id | Unique ID for listing |\n",
    "| price | Price per night |\n",
    "| nbhood_full | Name of New York City neighborhood |\n",
    "\n",
    "&nbsp;\n",
    "\n",
    "```airbnb_room_type.xlsx``` is an Excel file that inclues four columns for each listing. The 'listing_id' column corresponds to the 'listing_id' column in the airbnb_price.csv data.\n",
    "\n",
    "| Column | Description |\n",
    "| ------ | ----------- |\n",
    "|  | Auto-generated row number |\n",
    "| listing_id | Unique ID for listing |\n",
    "| room_type | Type of room to rent. Entire home, private room, etc... |\n",
    "| number_of_reviews | Number of reviews left by happy or disappointed patrons |\n",
    "\n",
    "&nbsp;\n",
    "\n",
    "``` airbnb_last_review.tsv``` is a tab-seperated-values file that contains dates for the most recent reviews.\n",
    "\n",
    "| Column | Description |\n",
    "| ------ | ----------- |\n",
    "| listing_id | Unique ID for listing |\n",
    "| host_name | Name of Airbnb host |\n",
    "| last_review | Date when the last review was left for the listing |\n",
    "\n",
    "&nbsp;\n",
    "\n",
    "**Load data into DataFrames:**"
   ]
  },
  {
   "cell_type": "code",
   "execution_count": 101,
   "id": "e3f3c7b8-eaee-418a-ab75-adb4c52f7871",
   "metadata": {},
   "outputs": [
    {
     "name": "stdout",
     "output_type": "stream",
     "text": [
      "   listing_id        price                nbhood_full\n",
      "0        2595  225 dollars         Manhattan, Midtown\n",
      "1        3831   89 dollars     Brooklyn, Clinton Hill\n",
      "2        5099  200 dollars     Manhattan, Murray Hill\n",
      "3        5178   79 dollars  Manhattan, Hell's Kitchen\n",
      "4        5238  150 dollars       Manhattan, Chinatown \n",
      "\n",
      "   Unnamed: 0  listing_id        room_type  number_of_reviews\n",
      "0         0.0      2595.0  Entire home/apt               48.0\n",
      "1         1.0      3831.0  Entire home/apt              295.0\n",
      "2         2.0      5099.0  Entire home/apt               78.0\n",
      "3         3.0      5121.0     Private room               49.0\n",
      "4         4.0      5178.0     Private room              454.0 \n",
      "\n",
      "   listing_id    host_name   last_review\n",
      "0        2595     Jennifer   May 21 2019\n",
      "1        3831  LisaRoxanne  July 05 2019\n",
      "2        5099        Chris  June 22 2019\n",
      "3        5178     Shunichi  June 24 2019\n",
      "4        5238          Ben  June 09 2019\n"
     ]
    }
   ],
   "source": [
    "# Load airbnb_price.csv, prices\n",
    "prices = pd.read_csv('airbnb_price.csv')\n",
    "\n",
    "# Load airbnb_room_type.xlsx, xls\n",
    "room_types = pd.read_excel('airbnb_room_type.xlsx', sheet_name='new_york')\n",
    "\n",
    "# Load airbnb_last_review.tsv, reviews\n",
    "reviews = pd.read_csv(\"airbnb_last_review.tsv\", sep='\\t')\n",
    "\n",
    "# Print the first five rows of each DataFrame\n",
    "print(prices.head(), '\\n')\n",
    "print(room_types.head(), '\\n')\n",
    "print(reviews.head())"
   ]
  },
  {
   "cell_type": "markdown",
   "id": "5b71e6d1-27df-4268-b09b-8449b6a99d48",
   "metadata": {},
   "source": [
    "## Clean Price data"
   ]
  },
  {
   "cell_type": "code",
   "execution_count": 102,
   "id": "2e728143-5633-461e-9725-85508624bb72",
   "metadata": {},
   "outputs": [
    {
     "name": "stdout",
     "output_type": "stream",
     "text": [
      "   listing_id  price                nbhood_full\n",
      "0        2595    225         Manhattan, Midtown\n",
      "1        3831     89     Brooklyn, Clinton Hill\n",
      "2        5099    200     Manhattan, Murray Hill\n",
      "3        5178     79  Manhattan, Hell's Kitchen\n",
      "4        5238    150       Manhattan, Chinatown\n"
     ]
    }
   ],
   "source": [
    "# Remove ' dollars' from prices column\n",
    "prices['price'] = prices['price'].str.replace(' dollars', '')\n",
    "\n",
    "# Convert price column to a number\n",
    "prices['price'] = prices[\"price\"].astype(int)\n",
    "\n",
    "print(prices.head())"
   ]
  },
  {
   "cell_type": "markdown",
   "id": "e42c5be0-313a-4257-860b-781e63c21d64",
   "metadata": {},
   "source": [
    "## Calculate average price\n",
    "\n",
    "We can calculate the average price for Airbnb rentals, but first let's check to see if there are any outliers in the price column."
   ]
  },
  {
   "cell_type": "code",
   "execution_count": 103,
   "id": "4085125a-29b1-48af-98dc-a771af37c869",
   "metadata": {},
   "outputs": [
    {
     "data": {
      "text/plain": [
       "10861     0\n",
       "10958     0\n",
       "11577     0\n",
       "11589     0\n",
       "11024     0\n",
       "11025     0\n",
       "11023     0\n",
       "24806    10\n",
       "16643    10\n",
       "12135    10\n",
       "Name: price, dtype: int64"
      ]
     },
     "execution_count": 103,
     "metadata": {},
     "output_type": "execute_result"
    }
   ],
   "source": [
    "prices['price'].sort_values().head(10)"
   ]
  },
  {
   "cell_type": "code",
   "execution_count": 104,
   "id": "670aa53f-feb5-4f6e-bf7f-53a46bd908a1",
   "metadata": {},
   "outputs": [
    {
     "data": {
      "text/plain": [
       "23601    2500\n",
       "1234     2500\n",
       "21838    2600\n",
       "13528    2990\n",
       "24432    2995\n",
       "12508    3000\n",
       "21731    3613\n",
       "18430    5000\n",
       "22085    5100\n",
       "23916    7500\n",
       "Name: price, dtype: int64"
      ]
     },
     "execution_count": 104,
     "metadata": {},
     "output_type": "execute_result"
    }
   ],
   "source": [
    "prices['price'].sort_values().tail(10)"
   ]
  },
  {
   "cell_type": "markdown",
   "id": "43f07470-6eb6-4fc9-8376-38c38de330e7",
   "metadata": {},
   "source": [
    "The maximum price per night is \\\\$7,500, which is a little crazy, but there are also \\\\$0 prices too. Let's remove the entries with \\\\$0 for the price. There are only a few."
   ]
  },
  {
   "cell_type": "code",
   "execution_count": 105,
   "id": "06473538-5328-4b51-b9ee-d0d5d2249a18",
   "metadata": {},
   "outputs": [
    {
     "name": "stdout",
     "output_type": "stream",
     "text": [
      "The average price per night for an Airbnb listing in New York City is $141.82.\n"
     ]
    }
   ],
   "source": [
    "# Update prices by removing all free listings from prices\n",
    "prices = prices[prices['price'] > 0]\n",
    "\n",
    "# Calculate the average price, avg_price\n",
    "avg_price = round(prices['price'].sum()/len(prices), 2)\n",
    "\n",
    "# Print the average price\n",
    "print(\"The average price per night for an Airbnb listing in New York City is ${:.2f}.\".format(avg_price))"
   ]
  },
  {
   "cell_type": "markdown",
   "id": "cd155a38-28d6-4bc3-aa67-09a947bfd163",
   "metadata": {},
   "source": [
    "## Comparing costs to the private rental market\n",
    "\n",
    "According to Zumper, a 1 bedroom apartment in New York City costs, on average, \\\\$3,100 per month. Let's convert the per night prices of our listings into monthly costs, so we can compare to the private market."
   ]
  },
  {
   "cell_type": "code",
   "execution_count": 106,
   "id": "9dc4979e-935a-44b3-bdf3-3d0fc3448046",
   "metadata": {},
   "outputs": [
    {
     "name": "stdout",
     "output_type": "stream",
     "text": [
      "Airbnb monthly costs are $4,313.61, while in the private market you would pay $3,100.00.\n"
     ]
    }
   ],
   "source": [
    "# Add a new column to the prices DataFrame, price_per_month\n",
    "prices['price_per_month'] = prices['price'] * 365 / 12\n",
    "\n",
    "# Calculate average_price_per_month\n",
    "average_price_per_month = round(prices['price_per_month'].mean(), 2)\n",
    "\n",
    "# Compare Airbnb and rental market\n",
    "print(\"Airbnb monthly costs are ${:,}, while in the private market you would pay {}.\".format(average_price_per_month, \"$3,100.00\"))"
   ]
  },
  {
   "cell_type": "markdown",
   "id": "6a9313a2-8cbd-4e0a-834a-8800e57b36ee",
   "metadata": {},
   "source": [
    "## Cleaning room type column\n",
    "\n",
    "Understandably, the monthly cost of Airbnb rooms are more expense than the regular, private market. But let's consider the types of rooms as well.\n",
    "\n",
    "The ```room_type``` column has several variations for private room listings, specifically:\n",
    "\n",
    "- \"Private room\"\n",
    "- \"private room\"\n",
    "- \"PRIVATE ROOM\"\n",
    "\n",
    "We can convert these to all lowercase."
   ]
  },
  {
   "cell_type": "code",
   "execution_count": 107,
   "id": "21dbf8e5-0bf7-4b99-8f4f-d0ba8e3cfc42",
   "metadata": {},
   "outputs": [
    {
     "name": "stdout",
     "output_type": "stream",
     "text": [
      "Entire home/apt    9405\n",
      "Private room       7752\n",
      "Shared room         357\n",
      "Hotel room          100\n",
      "Name: room_type, dtype: int64\n"
     ]
    }
   ],
   "source": [
    "# Convert room type to lowercase\n",
    "room_types['room_type'].str.lower()\n",
    "\n",
    "# Update the room_type column to category data type\n",
    "room_types['room_type'] = room_types['room_type'].astype('category')\n",
    "\n",
    "# Count room type frequencies\n",
    "room_frequencies = room_types['room_type'].value_counts()\n",
    "\n",
    "print(room_frequencies)"
   ]
  },
  {
   "cell_type": "markdown",
   "id": "8bde2f7f-4e4d-4eaf-82b8-70caf9a041a1",
   "metadata": {},
   "source": [
    "## What timeframe are we working with?\n",
    "\n",
    "Now let's turn our attention to the reviews DataFrame. The last_review column contains the date of the last review in the format of \"Month Day Year\" e.g., May 21 2019. We've been asked to find out the earliest and latest review dates in the DataFrame, and ensure the format allows this analysis to be easily conducted going forwards."
   ]
  },
  {
   "cell_type": "code",
   "execution_count": 108,
   "id": "fb7d3746-4128-4c33-88bc-d3bc69403fa4",
   "metadata": {},
   "outputs": [
    {
     "name": "stdout",
     "output_type": "stream",
     "text": [
      "<class 'pandas.core.frame.DataFrame'>\n",
      "RangeIndex: 25209 entries, 0 to 25208\n",
      "Data columns (total 3 columns):\n",
      " #   Column       Non-Null Count  Dtype \n",
      "---  ------       --------------  ----- \n",
      " 0   listing_id   25209 non-null  int64 \n",
      " 1   host_name    25201 non-null  object\n",
      " 2   last_review  25209 non-null  object\n",
      "dtypes: int64(1), object(2)\n",
      "memory usage: 591.0+ KB\n"
     ]
    }
   ],
   "source": [
    "reviews.info()"
   ]
  },
  {
   "cell_type": "code",
   "execution_count": 109,
   "id": "ffe949bd-e4ae-4c41-a46f-20a178ab8ace",
   "metadata": {},
   "outputs": [
    {
     "name": "stdout",
     "output_type": "stream",
     "text": [
      "<class 'pandas.core.frame.DataFrame'>\n",
      "RangeIndex: 25209 entries, 0 to 25208\n",
      "Data columns (total 3 columns):\n",
      " #   Column       Non-Null Count  Dtype         \n",
      "---  ------       --------------  -----         \n",
      " 0   listing_id   25209 non-null  int64         \n",
      " 1   host_name    25201 non-null  object        \n",
      " 2   last_review  25209 non-null  datetime64[ns]\n",
      "dtypes: datetime64[ns](1), int64(1), object(1)\n",
      "memory usage: 591.0+ KB\n"
     ]
    }
   ],
   "source": [
    "# Change the data type of the last_review column to datetime\n",
    "reviews['last_review'] = pd.to_datetime(reviews['last_review'], format=\"%B %d %Y\")\n",
    "\n",
    "reviews.info()"
   ]
  },
  {
   "cell_type": "code",
   "execution_count": 110,
   "id": "c87cb80d-26ee-4ad7-a2fa-c405c0af0350",
   "metadata": {},
   "outputs": [
    {
     "name": "stdout",
     "output_type": "stream",
     "text": [
      "The latest Airbnb review is 2019-07-09, the earliest review is 2019-01-01\n"
     ]
    }
   ],
   "source": [
    "# Create first_reviewed, the earliest review date\n",
    "first_reviewed = reviews[\"last_review\"].dt.date.min()\n",
    "\n",
    "# Create last_reviewed, the most recent review date\n",
    "last_reviewed = reviews[\"last_review\"].dt.date.max()\n",
    "\n",
    "# Print the oldest and newest reviews from the DataFrame\n",
    "print(\"The latest Airbnb review is {}, the earliest review is {}\".format(last_reviewed, first_reviewed))"
   ]
  },
  {
   "cell_type": "markdown",
   "id": "e5f7658c-22d2-450a-bc53-011087b9be19",
   "metadata": {},
   "source": [
    "## Joining the DataFrames\n",
    "\n",
    "Now we've extracted the information needed, we will merge the three DataFrames to make any future analysis easier to conduct. Once we have joined the data, we will remove any observations with missing values and check for duplicates."
   ]
  },
  {
   "cell_type": "code",
   "execution_count": 111,
   "id": "57eaa6db-7359-4103-8111-16c4e5f0058d",
   "metadata": {},
   "outputs": [
    {
     "name": "stdout",
     "output_type": "stream",
     "text": [
      "There are 0 duplicates in the DataFrame.\n"
     ]
    }
   ],
   "source": [
    "# Merge prices and room_types to create rooms_and_prices\n",
    "rooms_and_prices = prices.merge(room_types, how='outer', on='listing_id')\n",
    "\n",
    "# Merge rooms_and_prices with the reviews DataFrame to create airbnb_merged\n",
    "airbnb_merged = rooms_and_prices.merge(reviews, how='outer', on='listing_id')\n",
    "\n",
    "# Drop missing values from airbnb_merged\n",
    "airbnb_merged.dropna(inplace=True)\n",
    "\n",
    "# Check if there are any duplicate values\n",
    "print(\"There are {} duplicates in the DataFrame.\".format(airbnb_merged.duplicated().sum()))"
   ]
  },
  {
   "cell_type": "markdown",
   "id": "48ad1596-0a28-4631-b20e-089b42f513aa",
   "metadata": {},
   "source": [
    "## Analyzing prices by neighborhood\n",
    "\n",
    "Now we have combined all data into a single DataFrame, we will turn our attention to understanding the difference in listing prices between New York City boroughs. We can currently see boroughs listed as the first part of a string within the nbhood_full column, e.g.,\n",
    "\n",
    "- Manhattan, Midtown\n",
    "- Brooklyn, Clinton Hill\n",
    "- Manhattan, Murray Hill\n",
    "- Manhattan, Hell's Kitchen\n",
    "- Manhattan, Chinatown\n",
    "\n",
    "We will therefore need to extract this information from the string and store in a new column, borough, for analysis."
   ]
  },
  {
   "cell_type": "code",
   "execution_count": 114,
   "id": "640b4a83-9090-4b63-9b63-45e871eee1ef",
   "metadata": {},
   "outputs": [
    {
     "name": "stdout",
     "output_type": "stream",
     "text": [
      "                sum    mean  median  count\n",
      "borough                                   \n",
      "Manhattan  893869.0  171.70   139.0   5206\n",
      "Brooklyn   742816.0  123.02   100.0   6038\n",
      "Queens     174429.0   92.73    73.0   1881\n",
      "Staten      13439.0   86.15    70.5    156\n",
      "Bronx       30954.0   81.03    63.5    382\n"
     ]
    }
   ],
   "source": [
    "# Extract information from the nbhood_full column and store as a new column, borough\n",
    "airbnb_merged['borough'] = airbnb_merged['nbhood_full'].str.partition()[0].str.replace(',','')\n",
    "\n",
    "# Group by borough and calculate summary statistics\n",
    "boroughs = airbnb_merged.groupby(\"borough\")[\"price\"].agg([\"sum\", \"mean\", \"median\", \"count\"])\n",
    "\n",
    "# Round boroughs to 2 decimal places, and sort by mean in descending order\n",
    "boroughs = boroughs.round(2).sort_values('mean', ascending=False)\n",
    "\n",
    "print(boroughs)"
   ]
  },
  {
   "cell_type": "markdown",
   "id": "c1bf8562-9d07-4cfb-813c-362e11626149",
   "metadata": {},
   "source": [
    "# Price range by borough\n",
    "\n",
    "The above output gives us a summary of prices for listings across the 5 boroughs. In this final task we would like to categorize listings based on whether they fall into specific price ranges, and view this by borough.\n",
    "\n",
    "We can do this using percentiles and labels to create a new column, price_range, in the DataFrame. Once we have created the labels, we can then group the data and count frequencies for listings in each price range by borough.\n",
    "\n",
    "We will assign the following categories and price ranges:\n",
    "\n",
    "| label | price |\n",
    "| ----- | ----- |\n",
    "| Budget | \\\\$0-69 |\n",
    "| Average | \\\\$70-175 |\n",
    "| Expensive | \\\\$176-350 |\n",
    "| Extravagant | > \\\\$350 |"
   ]
  },
  {
   "cell_type": "code",
   "execution_count": 129,
   "id": "4b665bd7-0e33-4aa7-a650-f98f1e5ef894",
   "metadata": {},
   "outputs": [
    {
     "name": "stdout",
     "output_type": "stream",
     "text": [
      "borough    price_range\n",
      "Bronx      Budget          209\n",
      "           Average         155\n",
      "           Expensive        14\n",
      "           Extravagant       4\n",
      "Brooklyn   Budget         1697\n",
      "           Average        3324\n",
      "           Expensive       888\n",
      "           Extravagant     129\n",
      "Manhattan  Budget          590\n",
      "           Average        2868\n",
      "           Expensive      1456\n",
      "           Extravagant     292\n",
      "Queens     Budget          870\n",
      "           Average         847\n",
      "           Expensive       145\n",
      "           Extravagant      19\n",
      "Staten     Budget           71\n",
      "           Average          73\n",
      "           Expensive        12\n",
      "           Extravagant       0\n",
      "Name: price_range, dtype: int64\n"
     ]
    }
   ],
   "source": [
    "# Create labels for the price range, label_names\n",
    "label_names = ['Budget', 'Average', 'Expensive', 'Extravagant']\n",
    "\n",
    "# Create the label ranges, ranges\n",
    "ranges = [0, 69, 175, 350, np.inf]\n",
    "\n",
    "# Insert new column, price_range, into DataFrame\n",
    "airbnb_merged['price_range'] = pd.cut(x=airbnb_merged['price'], bins=ranges, labels=label_names)\n",
    "\n",
    "# Calculate borough and price_range frequencies, prices_by_borough\n",
    "prices_by_borough = airbnb_merged.groupby(['borough', 'price_range'])['price_range'].count()\n",
    "print(prices_by_borough)\n"
   ]
  },
  {
   "cell_type": "code",
   "execution_count": null,
   "id": "8b0fa031-2a9d-4286-a012-e58950e41a4e",
   "metadata": {},
   "outputs": [],
   "source": []
  }
 ],
 "metadata": {
  "kernelspec": {
   "display_name": "Python 3 (ipykernel)",
   "language": "python",
   "name": "python3"
  },
  "language_info": {
   "codemirror_mode": {
    "name": "ipython",
    "version": 3
   },
   "file_extension": ".py",
   "mimetype": "text/x-python",
   "name": "python",
   "nbconvert_exporter": "python",
   "pygments_lexer": "ipython3",
   "version": "3.9.7"
  }
 },
 "nbformat": 4,
 "nbformat_minor": 5
}
