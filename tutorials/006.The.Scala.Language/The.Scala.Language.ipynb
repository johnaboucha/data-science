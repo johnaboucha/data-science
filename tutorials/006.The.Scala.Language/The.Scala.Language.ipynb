{
 "cells": [
  {
   "cell_type": "markdown",
   "id": "3b87b0b0-0d28-4f6d-8230-37316d7c5282",
   "metadata": {},
   "source": [
    "# The GitHub History of the Scala Language"
   ]
  },
  {
   "cell_type": "code",
   "execution_count": null,
   "id": "bd1bd8ae-4e50-49a7-add6-e833ba1f2f4a",
   "metadata": {},
   "outputs": [],
   "source": []
  }
 ],
 "metadata": {
  "kernelspec": {
   "display_name": "Python 3 (ipykernel)",
   "language": "python",
   "name": "python3"
  },
  "language_info": {
   "codemirror_mode": {
    "name": "ipython",
    "version": 3
   },
   "file_extension": ".py",
   "mimetype": "text/x-python",
   "name": "python",
   "nbconvert_exporter": "python",
   "pygments_lexer": "ipython3",
   "version": "3.9.7"
  }
 },
 "nbformat": 4,
 "nbformat_minor": 5
}
