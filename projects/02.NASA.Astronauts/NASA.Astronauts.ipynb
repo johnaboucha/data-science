{
 "cells": [
  {
   "cell_type": "markdown",
   "id": "3c5711ff-ff37-4bad-bdcd-0c72aaaa9402",
   "metadata": {},
   "source": [
    "# NASA Astronauts, 1959-Present"
   ]
  },
  {
   "cell_type": "markdown",
   "id": "1d2ad1c7-d7e9-4212-ae3d-cd674b84c6a2",
   "metadata": {},
   "source": [
    "## The Data\n",
    "\n",
    "The dataset was found on Kaggle:\n",
    "https://www.kaggle.com/datasets/nasa/astronaut-yearbook\n"
   ]
  },
  {
   "cell_type": "code",
   "execution_count": null,
   "id": "78e59d42-7876-4397-89b2-1d6e016722be",
   "metadata": {},
   "outputs": [],
   "source": []
  }
 ],
 "metadata": {
  "kernelspec": {
   "display_name": "Python 3 (ipykernel)",
   "language": "python",
   "name": "python3"
  },
  "language_info": {
   "codemirror_mode": {
    "name": "ipython",
    "version": 3
   },
   "file_extension": ".py",
   "mimetype": "text/x-python",
   "name": "python",
   "nbconvert_exporter": "python",
   "pygments_lexer": "ipython3",
   "version": "3.9.7"
  }
 },
 "nbformat": 4,
 "nbformat_minor": 5
}
